{
 "cells": [
  {
   "cell_type": "code",
   "execution_count": null,
   "metadata": {},
   "outputs": [],
   "source": [
    "import os\n",
    "import pandas as pd\n",
    "import matplotlib.pyplot as plt\n",
    "import numpy as np\n",
    "\n",
    "#enable Ipython to display matplotlib graphs\n",
    "%matplotlib inline"
   ]
  },
  {
   "cell_type": "code",
   "execution_count": null,
   "metadata": {},
   "outputs": [],
   "source": [
    "NY = pd.read_csv(\"NewYork.csv\")\n",
    "NY = NY.rename(columns={\"New Date\": \"Old Date\"})"
   ]
  },
  {
   "cell_type": "code",
   "execution_count": null,
   "metadata": {},
   "outputs": [],
   "source": [
    "NY.columns"
   ]
  },
  {
   "cell_type": "code",
   "execution_count": null,
   "metadata": {},
   "outputs": [],
   "source": [
    "New_NY = NY.drop([\"Site Name\", \"Site ID\", \"Source\"], axis = 1)\n",
    "New_NY"
   ]
  },
  {
   "cell_type": "code",
   "execution_count": null,
   "metadata": {
    "scrolled": false
   },
   "outputs": [],
   "source": [
    "NY.describe()"
   ]
  },
  {
   "cell_type": "code",
   "execution_count": null,
   "metadata": {},
   "outputs": [],
   "source": [
    "NY.dtypes"
   ]
  },
  {
   "cell_type": "code",
   "execution_count": null,
   "metadata": {
    "scrolled": true
   },
   "outputs": [],
   "source": [
    "groupby_pollutant = New_NY.groupby([\"Main Pollutant\"])\n",
    "pollutant_type = groupby_pollutant[\"Main Pollutant\"].count()\n",
    "\n",
    "avg_2020 = groupby_pollutant[\"2020 AQI Value\"].mean()\n",
    "highest_in_20Y = groupby_pollutant[\"20-year High (1980-2019)\"].max()\n",
    "lowest_in_20Y = groupby_pollutant[\"20-year Low (1980-2019)\"].min()\n",
    "\n",
    "highest_in_5Y = groupby_pollutant[\"5-year Median (2015-2019)\"].max()\n",
    "lowest_in_5y = groupby_pollutant[\"5-year Median (2015-2019)\"].min()\n",
    "\n",
    "pollutant = pd.DataFrame ({\n",
    "                                \"Caused in 2020\": pollutant_type,\n",
    "                                \"Average in 2020\": avg_2020,\n",
    "                                \"Highest in 20 Years\": highest_in_20Y,\n",
    "                                \"Lowest in 20 Years\": lowest_in_20Y,\n",
    "                                \"Highest in 5 Years\": highest_in_5Y,\n",
    "                                \"Lowest in 5 Years\": lowest_in_5y\n",
    "})\n",
    "\n",
    "pollutant"
   ]
  },
  {
   "cell_type": "code",
   "execution_count": null,
   "metadata": {},
   "outputs": [],
   "source": [
    "print(f\"The total pollution/day caused by Ozone in 2020 is {pollutant.iat[0,0]}\")\n",
    "print(f\"The total pollution/day caused by PM2.5 in 2020 is {pollutant.iat[1,0]}\")\n",
    "print(f\"---------------------------------------------------------------\")\n",
    "print(f\"The average pollution caused by Ozone in 2020 is {pollutant.iat[0,1]}\")\n",
    "print(f\"The average pollution caused by PM2.5 in 2020 is {pollutant.iat[1,1]}\")\n",
    "print(f\"---------------------------------------------------------------\")\n",
    "print(f\"The highest pollution caused by Ozone in the last 20 years is {pollutant.iat[0,2]}\")\n",
    "print(f\"The highest pollution caused by PM2.5 in the last 20 years is {pollutant.iat[1,2]}\")\n",
    "print(f\"---------------------------------------------------------------\")\n",
    "print(f\"The lowest pollution caused by Ozone in the last 20 years is {pollutant.iat[0,3]}\")\n",
    "print(f\"The lowest pollution caused by PM2.5 in the last 20 years is {pollutant.iat[1,3]}\")\n",
    "print(f\"---------------------------------------------------------------\")\n",
    "print(f\"The highest pollution caused by Ozone in the last 5 years is {pollutant.iat[0,4]}\")\n",
    "print(f\"The highest pollution caused by PM2.5 in the last 5 years is {pollutant.iat[1,4]}\")\n",
    "print(f\"---------------------------------------------------------------\")\n",
    "print(f\"The lowest pollution caused by Ozone in the last 5 years is {pollutant.iat[0,5]}\")\n",
    "print(f\"The lowest pollution caused by PM2.5 in the last 5 years is {pollutant.iat[1,5]}\")\n"
   ]
  },
  {
   "cell_type": "code",
   "execution_count": null,
   "metadata": {
    "scrolled": false
   },
   "outputs": [],
   "source": [
    "Current_NY = New_NY.drop(New_NY.iloc[:, 3:7], axis = 1)\n",
    "Current_NY"
   ]
  },
  {
   "cell_type": "code",
   "execution_count": null,
   "metadata": {
    "scrolled": true
   },
   "outputs": [],
   "source": [
    "New_NY.plot(kind= \"line\", x='Date', y='2020 AQI Value', marker = \"*\", color = \"blue\", \\\n",
    "                figsize=(20,5), title= \"2020 Current Pollution Level\")\n",
    "plt.ylabel(\"2020 AQI Value\")\n",
    "plt.show()"
   ]
  },
  {
   "cell_type": "code",
   "execution_count": null,
   "metadata": {},
   "outputs": [],
   "source": [
    "New_NY"
   ]
  },
  {
   "cell_type": "code",
   "execution_count": null,
   "metadata": {},
   "outputs": [],
   "source": [
    "New_NY.plot(kind= \"line\",x= 'Old Date', y='20-year High (1980-2019)', marker = \"*\", color = \"blue\", \\\n",
    "                figsize=(20,8),use_index=True, title= \"1980-2019 Highest Pollution Level\")\n",
    "plt.ylabel(\"AQI Value\")\n",
    "plt.show()"
   ]
  },
  {
   "cell_type": "code",
   "execution_count": null,
   "metadata": {},
   "outputs": [],
   "source": [
    "New_NY.plot(kind= \"line\", x='Old Date', y='20-year Low (1980-2019)', marker = \"*\", color = \"blue\", \\\n",
    "                figsize=(20,8), title= \"1980-2019 Lowest Pollution Level\")\n",
    "plt.ylabel(\"AQI Value\")\n",
    "plt.show()"
   ]
  },
  {
   "cell_type": "code",
   "execution_count": null,
   "metadata": {
    "scrolled": true
   },
   "outputs": [],
   "source": [
    "New_NY.plot(kind= \"line\", x='Old Date', y='5-year Median (2015-2019)',marker = \"*\", color = \"blue\", \\\n",
    "                figsize=(20,7), title= \"Last 5 Years Average Pollution Level\")\n",
    "plt.ylabel(\"AQI Value\")\n",
    "plt.show()"
   ]
  },
  {
   "cell_type": "code",
   "execution_count": null,
   "metadata": {},
   "outputs": [],
   "source": []
  }
 ],
 "metadata": {
  "kernelspec": {
   "display_name": "Python 3",
   "language": "python",
   "name": "python3"
  },
  "language_info": {
   "codemirror_mode": {
    "name": "ipython",
    "version": 3
   },
   "file_extension": ".py",
   "mimetype": "text/x-python",
   "name": "python",
   "nbconvert_exporter": "python",
   "pygments_lexer": "ipython3",
   "version": "3.7.6"
  }
 },
 "nbformat": 4,
 "nbformat_minor": 4
}
