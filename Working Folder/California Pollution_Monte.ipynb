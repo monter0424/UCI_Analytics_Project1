{
 "cells": [
  {
   "cell_type": "code",
   "execution_count": 1,
   "metadata": {},
   "outputs": [
    {
     "data": {
      "text/html": [
       "<div>\n",
       "<style scoped>\n",
       "    .dataframe tbody tr th:only-of-type {\n",
       "        vertical-align: middle;\n",
       "    }\n",
       "\n",
       "    .dataframe tbody tr th {\n",
       "        vertical-align: top;\n",
       "    }\n",
       "\n",
       "    .dataframe thead th {\n",
       "        text-align: right;\n",
       "    }\n",
       "</style>\n",
       "<table border=\"1\" class=\"dataframe\">\n",
       "  <thead>\n",
       "    <tr style=\"text-align: right;\">\n",
       "      <th></th>\n",
       "      <th>Date</th>\n",
       "      <th>2020 AQI Value</th>\n",
       "      <th>Main Pollutant</th>\n",
       "      <th>Site Name</th>\n",
       "      <th>Site ID</th>\n",
       "      <th>Source</th>\n",
       "      <th>20-year High (1980-2019)</th>\n",
       "      <th>20-year Low (1980-2019)</th>\n",
       "      <th>5-year Median (2015-2019)</th>\n",
       "      <th>New Date</th>\n",
       "    </tr>\n",
       "  </thead>\n",
       "  <tbody>\n",
       "    <tr>\n",
       "      <th>0</th>\n",
       "      <td>1/1/2020</td>\n",
       "      <td>102</td>\n",
       "      <td>PM2.5</td>\n",
       "      <td>Long Beach-Route 710 Near Road</td>\n",
       "      <td>06-037-4008</td>\n",
       "      <td>AirNow</td>\n",
       "      <td>180</td>\n",
       "      <td>52</td>\n",
       "      <td>145</td>\n",
       "      <td>1-Jan</td>\n",
       "    </tr>\n",
       "    <tr>\n",
       "      <th>1</th>\n",
       "      <td>1/2/2020</td>\n",
       "      <td>66</td>\n",
       "      <td>PM2.5</td>\n",
       "      <td>Long Beach-Route 710 Near Road</td>\n",
       "      <td>06-037-4008</td>\n",
       "      <td>AirNow</td>\n",
       "      <td>155</td>\n",
       "      <td>37</td>\n",
       "      <td>93</td>\n",
       "      <td>2-Jan</td>\n",
       "    </tr>\n",
       "    <tr>\n",
       "      <th>2</th>\n",
       "      <td>1/3/2020</td>\n",
       "      <td>87</td>\n",
       "      <td>PM2.5</td>\n",
       "      <td>Long Beach-Route 710 Near Road</td>\n",
       "      <td>06-037-4008</td>\n",
       "      <td>AirNow</td>\n",
       "      <td>110</td>\n",
       "      <td>24</td>\n",
       "      <td>100</td>\n",
       "      <td>3-Jan</td>\n",
       "    </tr>\n",
       "    <tr>\n",
       "      <th>3</th>\n",
       "      <td>1/4/2020</td>\n",
       "      <td>99</td>\n",
       "      <td>PM2.5</td>\n",
       "      <td>Long Beach-Route 710 Near Road</td>\n",
       "      <td>06-037-4008</td>\n",
       "      <td>AirNow</td>\n",
       "      <td>118</td>\n",
       "      <td>47</td>\n",
       "      <td>85</td>\n",
       "      <td>4-Jan</td>\n",
       "    </tr>\n",
       "    <tr>\n",
       "      <th>4</th>\n",
       "      <td>1/5/2020</td>\n",
       "      <td>96</td>\n",
       "      <td>PM2.5</td>\n",
       "      <td>Long Beach-Route 710 Near Road</td>\n",
       "      <td>06-037-4008</td>\n",
       "      <td>AirNow</td>\n",
       "      <td>102</td>\n",
       "      <td>39</td>\n",
       "      <td>57</td>\n",
       "      <td>5-Jan</td>\n",
       "    </tr>\n",
       "    <tr>\n",
       "      <th>...</th>\n",
       "      <td>...</td>\n",
       "      <td>...</td>\n",
       "      <td>...</td>\n",
       "      <td>...</td>\n",
       "      <td>...</td>\n",
       "      <td>...</td>\n",
       "      <td>...</td>\n",
       "      <td>...</td>\n",
       "      <td>...</td>\n",
       "      <td>...</td>\n",
       "    </tr>\n",
       "    <tr>\n",
       "      <th>109</th>\n",
       "      <td>4/20/2020</td>\n",
       "      <td>43</td>\n",
       "      <td>Ozone</td>\n",
       "      <td>Pasadena</td>\n",
       "      <td>06-037-2005</td>\n",
       "      <td>AirNow</td>\n",
       "      <td>119</td>\n",
       "      <td>42</td>\n",
       "      <td>67</td>\n",
       "      <td>20-Apr</td>\n",
       "    </tr>\n",
       "    <tr>\n",
       "      <th>110</th>\n",
       "      <td>4/21/2020</td>\n",
       "      <td>48</td>\n",
       "      <td>PM2.5</td>\n",
       "      <td>Glendora</td>\n",
       "      <td>06-037-0016</td>\n",
       "      <td>AirNow</td>\n",
       "      <td>179</td>\n",
       "      <td>43</td>\n",
       "      <td>87</td>\n",
       "      <td>21-Apr</td>\n",
       "    </tr>\n",
       "    <tr>\n",
       "      <th>111</th>\n",
       "      <td>4/22/2020</td>\n",
       "      <td>101</td>\n",
       "      <td>Ozone</td>\n",
       "      <td>Glendora</td>\n",
       "      <td>06-037-0016</td>\n",
       "      <td>AirNow</td>\n",
       "      <td>161</td>\n",
       "      <td>43</td>\n",
       "      <td>61</td>\n",
       "      <td>22-Apr</td>\n",
       "    </tr>\n",
       "    <tr>\n",
       "      <th>112</th>\n",
       "      <td>4/23/2020</td>\n",
       "      <td>140</td>\n",
       "      <td>Ozone</td>\n",
       "      <td>Glendora</td>\n",
       "      <td>06-037-0016</td>\n",
       "      <td>AirNow</td>\n",
       "      <td>122</td>\n",
       "      <td>45</td>\n",
       "      <td>69</td>\n",
       "      <td>NaN</td>\n",
       "    </tr>\n",
       "    <tr>\n",
       "      <th>113</th>\n",
       "      <td>4/24/2020</td>\n",
       "      <td>147</td>\n",
       "      <td>Ozone</td>\n",
       "      <td>Pomona</td>\n",
       "      <td>06-037-1701</td>\n",
       "      <td>AirNow</td>\n",
       "      <td>115</td>\n",
       "      <td>41</td>\n",
       "      <td>77</td>\n",
       "      <td>NaN</td>\n",
       "    </tr>\n",
       "  </tbody>\n",
       "</table>\n",
       "<p>114 rows × 10 columns</p>\n",
       "</div>"
      ],
      "text/plain": [
       "          Date  2020 AQI Value Main Pollutant                       Site Name  \\\n",
       "0     1/1/2020             102          PM2.5  Long Beach-Route 710 Near Road   \n",
       "1     1/2/2020              66          PM2.5  Long Beach-Route 710 Near Road   \n",
       "2     1/3/2020              87          PM2.5  Long Beach-Route 710 Near Road   \n",
       "3     1/4/2020              99          PM2.5  Long Beach-Route 710 Near Road   \n",
       "4     1/5/2020              96          PM2.5  Long Beach-Route 710 Near Road   \n",
       "..         ...             ...            ...                             ...   \n",
       "109  4/20/2020              43          Ozone                        Pasadena   \n",
       "110  4/21/2020              48          PM2.5                        Glendora   \n",
       "111  4/22/2020             101          Ozone                        Glendora   \n",
       "112  4/23/2020             140          Ozone                        Glendora   \n",
       "113  4/24/2020             147          Ozone                          Pomona   \n",
       "\n",
       "         Site ID  Source  20-year High (1980-2019)  20-year Low (1980-2019)  \\\n",
       "0    06-037-4008  AirNow                       180                       52   \n",
       "1    06-037-4008  AirNow                       155                       37   \n",
       "2    06-037-4008  AirNow                       110                       24   \n",
       "3    06-037-4008  AirNow                       118                       47   \n",
       "4    06-037-4008  AirNow                       102                       39   \n",
       "..           ...     ...                       ...                      ...   \n",
       "109  06-037-2005  AirNow                       119                       42   \n",
       "110  06-037-0016  AirNow                       179                       43   \n",
       "111  06-037-0016  AirNow                       161                       43   \n",
       "112  06-037-0016  AirNow                       122                       45   \n",
       "113  06-037-1701  AirNow                       115                       41   \n",
       "\n",
       "     5-year Median (2015-2019) New Date  \n",
       "0                          145    1-Jan  \n",
       "1                           93    2-Jan  \n",
       "2                          100    3-Jan  \n",
       "3                           85    4-Jan  \n",
       "4                           57    5-Jan  \n",
       "..                         ...      ...  \n",
       "109                         67   20-Apr  \n",
       "110                         87   21-Apr  \n",
       "111                         61   22-Apr  \n",
       "112                         69      NaN  \n",
       "113                         77      NaN  \n",
       "\n",
       "[114 rows x 10 columns]"
      ]
     },
     "execution_count": 1,
     "metadata": {},
     "output_type": "execute_result"
    }
   ],
   "source": [
    "#Import dependancies\n",
    "import pandas as pd\n",
    "import matplotlib.pyplot as plt\n",
    "import scipy.stats as st\n",
    "import numpy as np\n",
    "%matplotlib inline\n",
    "\n",
    "csv_path = \"aqi v2 data.csv\"\n",
    "aqi_ca20 = pd.read_csv(csv_path)\n",
    "aqi_ca20"
   ]
  },
  {
   "cell_type": "code",
   "execution_count": 2,
   "metadata": {},
   "outputs": [
    {
     "data": {
      "text/plain": [
       "Index(['Date', '2020 AQI Value', 'Main Pollutant', 'Site Name', 'Site ID',\n",
       "       'Source', '20-year High (1980-2019)', '20-year Low (1980-2019)',\n",
       "       '5-year Median (2015-2019)', 'New Date'],\n",
       "      dtype='object')"
      ]
     },
     "execution_count": 2,
     "metadata": {},
     "output_type": "execute_result"
    }
   ],
   "source": [
    "#Reviewing column names\n",
    "aqi_ca20.columns"
   ]
  },
  {
   "cell_type": "code",
   "execution_count": 3,
   "metadata": {},
   "outputs": [],
   "source": [
    "#Dropping columns that are not needed\n",
    "aqi_ca20 = aqi_ca20.drop(['Site ID','Source'],axis=1)"
   ]
  },
  {
   "cell_type": "code",
   "execution_count": 4,
   "metadata": {},
   "outputs": [
    {
     "data": {
      "text/plain": [
       "Date                         object\n",
       "2020 AQI Value                int64\n",
       "Main Pollutant               object\n",
       "Site Name                    object\n",
       "20-year High (1980-2019)      int64\n",
       "20-year Low (1980-2019)       int64\n",
       "5-year Median (2015-2019)     int64\n",
       "New Date                     object\n",
       "dtype: object"
      ]
     },
     "execution_count": 4,
     "metadata": {},
     "output_type": "execute_result"
    }
   ],
   "source": [
    "#Reviewing datatypes for yearly values\n",
    "aqi_ca20.dtypes"
   ]
  },
  {
   "cell_type": "code",
   "execution_count": 5,
   "metadata": {},
   "outputs": [],
   "source": [
    "#Changing 5-year Median datatype to integer. Received error. \n",
    "aqi_ca20 = aqi_ca20[('5-year Median (2015-2019)')].astype(int)"
   ]
  },
  {
   "cell_type": "code",
   "execution_count": 6,
   "metadata": {},
   "outputs": [
    {
     "ename": "KeyError",
     "evalue": "'5-year Median (2015-2019)'",
     "output_type": "error",
     "traceback": [
      "\u001b[1;31m---------------------------------------------------------------------------\u001b[0m",
      "\u001b[1;31mKeyError\u001b[0m                                  Traceback (most recent call last)",
      "\u001b[1;32m<ipython-input-6-9a9d2c0efa20>\u001b[0m in \u001b[0;36m<module>\u001b[1;34m\u001b[0m\n\u001b[0;32m      1\u001b[0m \u001b[1;31m#After requesting assistance, was guided in utilizing the below try/except to locate the culprit: \".\"\u001b[0m\u001b[1;33m\u001b[0m\u001b[1;33m\u001b[0m\u001b[1;33m\u001b[0m\u001b[0m\n\u001b[1;32m----> 2\u001b[1;33m \u001b[1;32mfor\u001b[0m \u001b[0mitem\u001b[0m \u001b[1;32min\u001b[0m \u001b[0mlist\u001b[0m\u001b[1;33m(\u001b[0m\u001b[0maqi_ca20\u001b[0m\u001b[1;33m[\u001b[0m\u001b[1;34m'5-year Median (2015-2019)'\u001b[0m\u001b[1;33m]\u001b[0m\u001b[1;33m)\u001b[0m\u001b[1;33m:\u001b[0m\u001b[1;33m\u001b[0m\u001b[1;33m\u001b[0m\u001b[0m\n\u001b[0m\u001b[0;32m      3\u001b[0m     \u001b[1;32mtry\u001b[0m\u001b[1;33m:\u001b[0m\u001b[1;33m\u001b[0m\u001b[1;33m\u001b[0m\u001b[0m\n\u001b[0;32m      4\u001b[0m         \u001b[0mint\u001b[0m\u001b[1;33m(\u001b[0m\u001b[0mitem\u001b[0m\u001b[1;33m)\u001b[0m\u001b[1;33m\u001b[0m\u001b[1;33m\u001b[0m\u001b[0m\n\u001b[0;32m      5\u001b[0m     \u001b[1;32mexcept\u001b[0m\u001b[1;33m:\u001b[0m\u001b[1;33m\u001b[0m\u001b[1;33m\u001b[0m\u001b[0m\n",
      "\u001b[1;32m~\\anaconda3\\lib\\site-packages\\pandas\\core\\series.py\u001b[0m in \u001b[0;36m__getitem__\u001b[1;34m(self, key)\u001b[0m\n\u001b[0;32m    869\u001b[0m         \u001b[0mkey\u001b[0m \u001b[1;33m=\u001b[0m \u001b[0mcom\u001b[0m\u001b[1;33m.\u001b[0m\u001b[0mapply_if_callable\u001b[0m\u001b[1;33m(\u001b[0m\u001b[0mkey\u001b[0m\u001b[1;33m,\u001b[0m \u001b[0mself\u001b[0m\u001b[1;33m)\u001b[0m\u001b[1;33m\u001b[0m\u001b[1;33m\u001b[0m\u001b[0m\n\u001b[0;32m    870\u001b[0m         \u001b[1;32mtry\u001b[0m\u001b[1;33m:\u001b[0m\u001b[1;33m\u001b[0m\u001b[1;33m\u001b[0m\u001b[0m\n\u001b[1;32m--> 871\u001b[1;33m             \u001b[0mresult\u001b[0m \u001b[1;33m=\u001b[0m \u001b[0mself\u001b[0m\u001b[1;33m.\u001b[0m\u001b[0mindex\u001b[0m\u001b[1;33m.\u001b[0m\u001b[0mget_value\u001b[0m\u001b[1;33m(\u001b[0m\u001b[0mself\u001b[0m\u001b[1;33m,\u001b[0m \u001b[0mkey\u001b[0m\u001b[1;33m)\u001b[0m\u001b[1;33m\u001b[0m\u001b[1;33m\u001b[0m\u001b[0m\n\u001b[0m\u001b[0;32m    872\u001b[0m \u001b[1;33m\u001b[0m\u001b[0m\n\u001b[0;32m    873\u001b[0m             \u001b[1;32mif\u001b[0m \u001b[1;32mnot\u001b[0m \u001b[0mis_scalar\u001b[0m\u001b[1;33m(\u001b[0m\u001b[0mresult\u001b[0m\u001b[1;33m)\u001b[0m\u001b[1;33m:\u001b[0m\u001b[1;33m\u001b[0m\u001b[1;33m\u001b[0m\u001b[0m\n",
      "\u001b[1;32m~\\anaconda3\\lib\\site-packages\\pandas\\core\\indexes\\base.py\u001b[0m in \u001b[0;36mget_value\u001b[1;34m(self, series, key)\u001b[0m\n\u001b[0;32m   4403\u001b[0m         \u001b[0mk\u001b[0m \u001b[1;33m=\u001b[0m \u001b[0mself\u001b[0m\u001b[1;33m.\u001b[0m\u001b[0m_convert_scalar_indexer\u001b[0m\u001b[1;33m(\u001b[0m\u001b[0mk\u001b[0m\u001b[1;33m,\u001b[0m \u001b[0mkind\u001b[0m\u001b[1;33m=\u001b[0m\u001b[1;34m\"getitem\"\u001b[0m\u001b[1;33m)\u001b[0m\u001b[1;33m\u001b[0m\u001b[1;33m\u001b[0m\u001b[0m\n\u001b[0;32m   4404\u001b[0m         \u001b[1;32mtry\u001b[0m\u001b[1;33m:\u001b[0m\u001b[1;33m\u001b[0m\u001b[1;33m\u001b[0m\u001b[0m\n\u001b[1;32m-> 4405\u001b[1;33m             \u001b[1;32mreturn\u001b[0m \u001b[0mself\u001b[0m\u001b[1;33m.\u001b[0m\u001b[0m_engine\u001b[0m\u001b[1;33m.\u001b[0m\u001b[0mget_value\u001b[0m\u001b[1;33m(\u001b[0m\u001b[0ms\u001b[0m\u001b[1;33m,\u001b[0m \u001b[0mk\u001b[0m\u001b[1;33m,\u001b[0m \u001b[0mtz\u001b[0m\u001b[1;33m=\u001b[0m\u001b[0mgetattr\u001b[0m\u001b[1;33m(\u001b[0m\u001b[0mseries\u001b[0m\u001b[1;33m.\u001b[0m\u001b[0mdtype\u001b[0m\u001b[1;33m,\u001b[0m \u001b[1;34m\"tz\"\u001b[0m\u001b[1;33m,\u001b[0m \u001b[1;32mNone\u001b[0m\u001b[1;33m)\u001b[0m\u001b[1;33m)\u001b[0m\u001b[1;33m\u001b[0m\u001b[1;33m\u001b[0m\u001b[0m\n\u001b[0m\u001b[0;32m   4406\u001b[0m         \u001b[1;32mexcept\u001b[0m \u001b[0mKeyError\u001b[0m \u001b[1;32mas\u001b[0m \u001b[0me1\u001b[0m\u001b[1;33m:\u001b[0m\u001b[1;33m\u001b[0m\u001b[1;33m\u001b[0m\u001b[0m\n\u001b[0;32m   4407\u001b[0m             \u001b[1;32mif\u001b[0m \u001b[0mlen\u001b[0m\u001b[1;33m(\u001b[0m\u001b[0mself\u001b[0m\u001b[1;33m)\u001b[0m \u001b[1;33m>\u001b[0m \u001b[1;36m0\u001b[0m \u001b[1;32mand\u001b[0m \u001b[1;33m(\u001b[0m\u001b[0mself\u001b[0m\u001b[1;33m.\u001b[0m\u001b[0mholds_integer\u001b[0m\u001b[1;33m(\u001b[0m\u001b[1;33m)\u001b[0m \u001b[1;32mor\u001b[0m \u001b[0mself\u001b[0m\u001b[1;33m.\u001b[0m\u001b[0mis_boolean\u001b[0m\u001b[1;33m(\u001b[0m\u001b[1;33m)\u001b[0m\u001b[1;33m)\u001b[0m\u001b[1;33m:\u001b[0m\u001b[1;33m\u001b[0m\u001b[1;33m\u001b[0m\u001b[0m\n",
      "\u001b[1;32mpandas\\_libs\\index.pyx\u001b[0m in \u001b[0;36mpandas._libs.index.IndexEngine.get_value\u001b[1;34m()\u001b[0m\n",
      "\u001b[1;32mpandas\\_libs\\index.pyx\u001b[0m in \u001b[0;36mpandas._libs.index.IndexEngine.get_value\u001b[1;34m()\u001b[0m\n",
      "\u001b[1;32mpandas\\_libs\\index.pyx\u001b[0m in \u001b[0;36mpandas._libs.index.IndexEngine.get_loc\u001b[1;34m()\u001b[0m\n",
      "\u001b[1;32mpandas\\_libs\\index_class_helper.pxi\u001b[0m in \u001b[0;36mpandas._libs.index.Int64Engine._check_type\u001b[1;34m()\u001b[0m\n",
      "\u001b[1;31mKeyError\u001b[0m: '5-year Median (2015-2019)'"
     ]
    }
   ],
   "source": [
    "#After requesting assistance, was guided in utilizing the below try/except to locate the culprit: \".\"\n",
    "for item in list(aqi_ca20['5-year Median (2015-2019)']):\n",
    "    try:\n",
    "        int(item)\n",
    "    except:\n",
    "        print(f\"Could not converted to int. Here is the number{item}\")"
   ]
  },
  {
   "cell_type": "code",
   "execution_count": null,
   "metadata": {},
   "outputs": [],
   "source": [
    "#Obliterate that pesky outlier.\n",
    "#aqi_ca20.loc[aqi_ca20['5-year Median (2015-2019)'] == \".\",:]\n",
    "#tmp = aqi_ca20.drop(index=59)"
   ]
  },
  {
   "cell_type": "code",
   "execution_count": null,
   "metadata": {},
   "outputs": [],
   "source": [
    "#Confirm obliteration.\n",
    "tmp.loc[tmp['5-year Median (2015-2019)'] == \".\",:]"
   ]
  },
  {
   "cell_type": "code",
   "execution_count": null,
   "metadata": {},
   "outputs": [],
   "source": [
    "#Resume my previous quest to change the datatype. Success. \n",
    "aqi_ca20.dtypes"
   ]
  },
  {
   "cell_type": "code",
   "execution_count": null,
   "metadata": {},
   "outputs": [],
   "source": [
    "#Create groupbys to utilize in dataframe. \n",
    "main_pollutant_groupy = aqi_ca20.groupby([\"Main Pollutant\"])\n",
    "\n",
    "total_pollutant = main_pollutant_groupy[\"Main Pollutant\"].count()\n",
    "avg_2020 = main_pollutant_groupy[\"2020 AQI Value\"].mean().map(\"{:.0f}\".format)\n",
    "highest_in_20Y = main_pollutant_groupy[\"20-year High (1980-2019)\"].max()\n",
    "lowest_in_20Y = main_pollutant_groupy[\"20-year Low (1980-2019)\"].min()\n",
    "\n",
    "highest_in_5Y = main_pollutant_groupy['5-year Median (2015-2019)'].max()\n",
    "lowest_in_5Y = main_pollutant_groupy['5-year Median (2015-2019)'].min()\n",
    "\n",
    "#Creating DataFrame\n",
    "pollutants = pd.DataFrame({\n",
    "                                \"Pollutant Totals in 2020\": total_pollutant,\n",
    "                                \"Average in 2020\": avg_2020,\n",
    "                                \"Highest in 20 Years\": highest_in_20Y,\n",
    "                                \"Lowest in 20 Years\": lowest_in_20Y,\n",
    "                                \"Highest in 5 Years\": highest_in_5Y,\n",
    "                                \"Lowest in 5 Years\": lowest_in_5Y})\n",
    "\n",
    "pollutantsants"
   ]
  },
  {
   "cell_type": "code",
   "execution_count": null,
   "metadata": {},
   "outputs": [],
   "source": [
    "aqi_ca20.describe()"
   ]
  },
  {
   "cell_type": "code",
   "execution_count": null,
   "metadata": {},
   "outputs": [],
   "source": [
    "#Print statements\n",
    "\n",
    "print(f\"The total Air Quality Index (AQI)/day caused by Ozone in 2020 is {pollutants.iat[0,0]}\")\n",
    "print(f\"The total Air Quality Index (AQI)/day caused by PM2.5 in 2020 is {pollutants.iat[1,0]}\")\n",
    "print(f\"---------------------------------------------------------------\")\n",
    "print(f\"The average Air Quality Index (AQI) caused by Ozone in 2020 is {pollutants.iat[0,1]}\")\n",
    "print(f\"The average Air Quality Index (AQI) caused by PM2.5 in 2020 is {pollutants.iat[1,1]}\")\n",
    "print(f\"---------------------------------------------------------------\")\n",
    "print(f\"The highest Air Quality Index (AQI) caused by Ozone in the last 20 years is {pollutants.iat[0,2]}\")\n",
    "print(f\"The highest Air Quality Index (AQI) caused by PM2.5 in the last 20 years is {pollutants.iat[1,2]}\")\n",
    "print(f\"---------------------------------------------------------------\")\n",
    "print(f\"The lowest Air Quality Index (AQI) caused by Ozone in the last 20 years is {pollutants.iat[0,3]}\")\n",
    "print(f\"The lowest Air Quality Index (AQI) caused by PM2.5 in the last 20 years is {pollutants.iat[1,3]}\")\n",
    "print(f\"---------------------------------------------------------------\")\n",
    "print(f\"The highest Air Quality Index (AQI) caused by Ozone in the last 5 years is {pollutants.iat[0,4]}\")\n",
    "print(f\"The highest Air Quality Index (AQI) caused by PM2.5 in the last 5 years is {pollutants.iat[1,4]}\")\n",
    "print(f\"---------------------------------------------------------------\")\n",
    "print(f\"The lowest Air Quality Index (AQI) caused by Ozone in the last 5 years is {pollutants.iat[0,5]}\")\n",
    "print(f\"The lowest Air Quality Index (AQI) caused by PM2.5 in the last 5 years is {pollutants.iat[1,5]}\")"
   ]
  },
  {
   "cell_type": "code",
   "execution_count": null,
   "metadata": {},
   "outputs": [],
   "source": [
    "#2020 Current Pollutation Level Line Plot\n",
    "aqi_ca20.plot(kind= \"line\", x='Date', y='2020 AQI Value', marker = \"*\", color = \"red\", \\\n",
    "                figsize=(20,5), title= \"2020 CA Air Quality Index (AQI)\")\n",
    "plt.ylabel(\"2020 AQI Value\")\n",
    "plt.savefig(\"2020_CA_AQI Values.png\")\n",
    "plt.show()"
   ]
  },
  {
   "cell_type": "code",
   "execution_count": null,
   "metadata": {},
   "outputs": [],
   "source": [
    "#1980-2019 Highest Pollution Level Line Plot\n",
    "aqi_ca20.plot(kind= \"line\",x= 'New Date', y='20-year High (1980-2019)', marker = \"*\", color = \"red\", \\\n",
    "                figsize=(20,8),use_index=True, title= \"1980-2019 CA Highest Air Quality Index (AQI)\")\n",
    "plt.ylabel(\"AQI Value\")\n",
    "plt.show()"
   ]
  },
  {
   "cell_type": "code",
   "execution_count": null,
   "metadata": {},
   "outputs": [],
   "source": [
    "#1980-2019 Lowest Pollution Level Line Plot\n",
    "aqi_ca20.plot(kind= \"line\", x='New Date', y='20-year Low (1980-2019)', marker = \"*\", color = \"red\", \\\n",
    "                figsize=(20,8), title= \"1980-2019 CA Lowest Air Quality Index (AQI)\")\n",
    "plt.ylabel(\"AQI Value\")\n",
    "plt.show()"
   ]
  },
  {
   "cell_type": "code",
   "execution_count": null,
   "metadata": {},
   "outputs": [],
   "source": [
    "#Last Five Years Average Pollution Level\n",
    "aqi_ca20.plot(kind= \"line\", x='New Date', y='5-year Median (2015-2019)',marker = \"*\", color = \"red\", \\\n",
    "                figsize=(20,7), title= \"Last 5 Years Average AQI Level (CA)\")\n",
    "plt.ylabel(\"AQI Value\")\n",
    "plt.savefig(\"CA_AQI_Last Five Years.png\")\n",
    "plt.show()"
   ]
  }
 ],
 "metadata": {
  "kernelspec": {
   "display_name": "Python 3",
   "language": "python",
   "name": "python3"
  },
  "language_info": {
   "codemirror_mode": {
    "name": "ipython",
    "version": 3
   },
   "file_extension": ".py",
   "mimetype": "text/x-python",
   "name": "python",
   "nbconvert_exporter": "python",
   "pygments_lexer": "ipython3",
   "version": "3.7.6"
  }
 },
 "nbformat": 4,
 "nbformat_minor": 4
}
